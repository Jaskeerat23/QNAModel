{
  "nbformat": 4,
  "nbformat_minor": 0,
  "metadata": {
    "colab": {
      "provenance": [],
      "toc_visible": true,
      "authorship_tag": "ABX9TyOs3j6nL6AFf8jZCFbZbFlq",
      "include_colab_link": true
    },
    "kernelspec": {
      "name": "python3",
      "display_name": "Python 3"
    },
    "language_info": {
      "name": "python"
    }
  },
  "cells": [
    {
      "cell_type": "markdown",
      "metadata": {
        "id": "view-in-github",
        "colab_type": "text"
      },
      "source": [
        "<a href=\"https://colab.research.google.com/github/Jaskeerat23/QNAModel/blob/main/Project_1.ipynb\" target=\"_parent\"><img src=\"https://colab.research.google.com/assets/colab-badge.svg\" alt=\"Open In Colab\"/></a>"
      ]
    },
    {
      "cell_type": "markdown",
      "source": [
        "# **Importing Libraries**"
      ],
      "metadata": {
        "id": "IMslfIAjPpAQ"
      }
    },
    {
      "cell_type": "code",
      "execution_count": 1,
      "metadata": {
        "id": "4bCVBNmXKHH4"
      },
      "outputs": [],
      "source": [
        "import torch\n",
        "import torch.nn as nn\n",
        "import pandas as pd\n",
        "import numpy as np\n",
        "import string\n",
        "import random\n",
        "import re\n",
        "\n",
        "from sklearn.model_selection import train_test_split\n",
        "from google.colab import drive"
      ]
    },
    {
      "cell_type": "code",
      "source": [
        "drive.mount(\"/content/drive\")"
      ],
      "metadata": {
        "colab": {
          "base_uri": "https://localhost:8080/"
        },
        "id": "UhKabBYHKhML",
        "outputId": "190ad48d-7614-4736-8be0-1cd32f717d65"
      },
      "execution_count": 2,
      "outputs": [
        {
          "output_type": "stream",
          "name": "stdout",
          "text": [
            "Mounted at /content/drive\n"
          ]
        }
      ]
    },
    {
      "cell_type": "code",
      "source": [
        "df = pd.read_csv(\"/content/drive/MyDrive/QNA_Dataset.csv\")\n",
        "df.head()"
      ],
      "metadata": {
        "colab": {
          "base_uri": "https://localhost:8080/",
          "height": 206
        },
        "id": "PexxHygfK3nR",
        "outputId": "30704aca-560f-4560-d564-cdc552f03eb4"
      },
      "execution_count": 3,
      "outputs": [
        {
          "output_type": "execute_result",
          "data": {
            "text/plain": [
              "   Unnamed: 0 subjects Difficulty  \\\n",
              "0           0  Physics     Medium   \n",
              "1           1  Physics     Medium   \n",
              "2           2  Physics       Easy   \n",
              "3           3  Physics       Hard   \n",
              "4           4  Physics     Medium   \n",
              "\n",
              "                                           Questions  \n",
              "0  Discuss the theoretical foundation of Waves an...  \n",
              "1  Discuss the theoretical foundation of Waves an...  \n",
              "2  Discuss the theoretical foundation of Relativity.  \n",
              "3  What is Thermodynamics and how is it observed ...  \n",
              "4  Discuss the theoretical foundation of Electrom...  "
            ],
            "text/html": [
              "\n",
              "  <div id=\"df-190aa9ec-1e6b-4180-8b79-69d4da52e9d6\" class=\"colab-df-container\">\n",
              "    <div>\n",
              "<style scoped>\n",
              "    .dataframe tbody tr th:only-of-type {\n",
              "        vertical-align: middle;\n",
              "    }\n",
              "\n",
              "    .dataframe tbody tr th {\n",
              "        vertical-align: top;\n",
              "    }\n",
              "\n",
              "    .dataframe thead th {\n",
              "        text-align: right;\n",
              "    }\n",
              "</style>\n",
              "<table border=\"1\" class=\"dataframe\">\n",
              "  <thead>\n",
              "    <tr style=\"text-align: right;\">\n",
              "      <th></th>\n",
              "      <th>Unnamed: 0</th>\n",
              "      <th>subjects</th>\n",
              "      <th>Difficulty</th>\n",
              "      <th>Questions</th>\n",
              "    </tr>\n",
              "  </thead>\n",
              "  <tbody>\n",
              "    <tr>\n",
              "      <th>0</th>\n",
              "      <td>0</td>\n",
              "      <td>Physics</td>\n",
              "      <td>Medium</td>\n",
              "      <td>Discuss the theoretical foundation of Waves an...</td>\n",
              "    </tr>\n",
              "    <tr>\n",
              "      <th>1</th>\n",
              "      <td>1</td>\n",
              "      <td>Physics</td>\n",
              "      <td>Medium</td>\n",
              "      <td>Discuss the theoretical foundation of Waves an...</td>\n",
              "    </tr>\n",
              "    <tr>\n",
              "      <th>2</th>\n",
              "      <td>2</td>\n",
              "      <td>Physics</td>\n",
              "      <td>Easy</td>\n",
              "      <td>Discuss the theoretical foundation of Relativity.</td>\n",
              "    </tr>\n",
              "    <tr>\n",
              "      <th>3</th>\n",
              "      <td>3</td>\n",
              "      <td>Physics</td>\n",
              "      <td>Hard</td>\n",
              "      <td>What is Thermodynamics and how is it observed ...</td>\n",
              "    </tr>\n",
              "    <tr>\n",
              "      <th>4</th>\n",
              "      <td>4</td>\n",
              "      <td>Physics</td>\n",
              "      <td>Medium</td>\n",
              "      <td>Discuss the theoretical foundation of Electrom...</td>\n",
              "    </tr>\n",
              "  </tbody>\n",
              "</table>\n",
              "</div>\n",
              "    <div class=\"colab-df-buttons\">\n",
              "\n",
              "  <div class=\"colab-df-container\">\n",
              "    <button class=\"colab-df-convert\" onclick=\"convertToInteractive('df-190aa9ec-1e6b-4180-8b79-69d4da52e9d6')\"\n",
              "            title=\"Convert this dataframe to an interactive table.\"\n",
              "            style=\"display:none;\">\n",
              "\n",
              "  <svg xmlns=\"http://www.w3.org/2000/svg\" height=\"24px\" viewBox=\"0 -960 960 960\">\n",
              "    <path d=\"M120-120v-720h720v720H120Zm60-500h600v-160H180v160Zm220 220h160v-160H400v160Zm0 220h160v-160H400v160ZM180-400h160v-160H180v160Zm440 0h160v-160H620v160ZM180-180h160v-160H180v160Zm440 0h160v-160H620v160Z\"/>\n",
              "  </svg>\n",
              "    </button>\n",
              "\n",
              "  <style>\n",
              "    .colab-df-container {\n",
              "      display:flex;\n",
              "      gap: 12px;\n",
              "    }\n",
              "\n",
              "    .colab-df-convert {\n",
              "      background-color: #E8F0FE;\n",
              "      border: none;\n",
              "      border-radius: 50%;\n",
              "      cursor: pointer;\n",
              "      display: none;\n",
              "      fill: #1967D2;\n",
              "      height: 32px;\n",
              "      padding: 0 0 0 0;\n",
              "      width: 32px;\n",
              "    }\n",
              "\n",
              "    .colab-df-convert:hover {\n",
              "      background-color: #E2EBFA;\n",
              "      box-shadow: 0px 1px 2px rgba(60, 64, 67, 0.3), 0px 1px 3px 1px rgba(60, 64, 67, 0.15);\n",
              "      fill: #174EA6;\n",
              "    }\n",
              "\n",
              "    .colab-df-buttons div {\n",
              "      margin-bottom: 4px;\n",
              "    }\n",
              "\n",
              "    [theme=dark] .colab-df-convert {\n",
              "      background-color: #3B4455;\n",
              "      fill: #D2E3FC;\n",
              "    }\n",
              "\n",
              "    [theme=dark] .colab-df-convert:hover {\n",
              "      background-color: #434B5C;\n",
              "      box-shadow: 0px 1px 3px 1px rgba(0, 0, 0, 0.15);\n",
              "      filter: drop-shadow(0px 1px 2px rgba(0, 0, 0, 0.3));\n",
              "      fill: #FFFFFF;\n",
              "    }\n",
              "  </style>\n",
              "\n",
              "    <script>\n",
              "      const buttonEl =\n",
              "        document.querySelector('#df-190aa9ec-1e6b-4180-8b79-69d4da52e9d6 button.colab-df-convert');\n",
              "      buttonEl.style.display =\n",
              "        google.colab.kernel.accessAllowed ? 'block' : 'none';\n",
              "\n",
              "      async function convertToInteractive(key) {\n",
              "        const element = document.querySelector('#df-190aa9ec-1e6b-4180-8b79-69d4da52e9d6');\n",
              "        const dataTable =\n",
              "          await google.colab.kernel.invokeFunction('convertToInteractive',\n",
              "                                                    [key], {});\n",
              "        if (!dataTable) return;\n",
              "\n",
              "        const docLinkHtml = 'Like what you see? Visit the ' +\n",
              "          '<a target=\"_blank\" href=https://colab.research.google.com/notebooks/data_table.ipynb>data table notebook</a>'\n",
              "          + ' to learn more about interactive tables.';\n",
              "        element.innerHTML = '';\n",
              "        dataTable['output_type'] = 'display_data';\n",
              "        await google.colab.output.renderOutput(dataTable, element);\n",
              "        const docLink = document.createElement('div');\n",
              "        docLink.innerHTML = docLinkHtml;\n",
              "        element.appendChild(docLink);\n",
              "      }\n",
              "    </script>\n",
              "  </div>\n",
              "\n",
              "\n",
              "    <div id=\"df-8a85acd5-87cc-4226-bcfb-283b48e62258\">\n",
              "      <button class=\"colab-df-quickchart\" onclick=\"quickchart('df-8a85acd5-87cc-4226-bcfb-283b48e62258')\"\n",
              "                title=\"Suggest charts\"\n",
              "                style=\"display:none;\">\n",
              "\n",
              "<svg xmlns=\"http://www.w3.org/2000/svg\" height=\"24px\"viewBox=\"0 0 24 24\"\n",
              "     width=\"24px\">\n",
              "    <g>\n",
              "        <path d=\"M19 3H5c-1.1 0-2 .9-2 2v14c0 1.1.9 2 2 2h14c1.1 0 2-.9 2-2V5c0-1.1-.9-2-2-2zM9 17H7v-7h2v7zm4 0h-2V7h2v10zm4 0h-2v-4h2v4z\"/>\n",
              "    </g>\n",
              "</svg>\n",
              "      </button>\n",
              "\n",
              "<style>\n",
              "  .colab-df-quickchart {\n",
              "      --bg-color: #E8F0FE;\n",
              "      --fill-color: #1967D2;\n",
              "      --hover-bg-color: #E2EBFA;\n",
              "      --hover-fill-color: #174EA6;\n",
              "      --disabled-fill-color: #AAA;\n",
              "      --disabled-bg-color: #DDD;\n",
              "  }\n",
              "\n",
              "  [theme=dark] .colab-df-quickchart {\n",
              "      --bg-color: #3B4455;\n",
              "      --fill-color: #D2E3FC;\n",
              "      --hover-bg-color: #434B5C;\n",
              "      --hover-fill-color: #FFFFFF;\n",
              "      --disabled-bg-color: #3B4455;\n",
              "      --disabled-fill-color: #666;\n",
              "  }\n",
              "\n",
              "  .colab-df-quickchart {\n",
              "    background-color: var(--bg-color);\n",
              "    border: none;\n",
              "    border-radius: 50%;\n",
              "    cursor: pointer;\n",
              "    display: none;\n",
              "    fill: var(--fill-color);\n",
              "    height: 32px;\n",
              "    padding: 0;\n",
              "    width: 32px;\n",
              "  }\n",
              "\n",
              "  .colab-df-quickchart:hover {\n",
              "    background-color: var(--hover-bg-color);\n",
              "    box-shadow: 0 1px 2px rgba(60, 64, 67, 0.3), 0 1px 3px 1px rgba(60, 64, 67, 0.15);\n",
              "    fill: var(--button-hover-fill-color);\n",
              "  }\n",
              "\n",
              "  .colab-df-quickchart-complete:disabled,\n",
              "  .colab-df-quickchart-complete:disabled:hover {\n",
              "    background-color: var(--disabled-bg-color);\n",
              "    fill: var(--disabled-fill-color);\n",
              "    box-shadow: none;\n",
              "  }\n",
              "\n",
              "  .colab-df-spinner {\n",
              "    border: 2px solid var(--fill-color);\n",
              "    border-color: transparent;\n",
              "    border-bottom-color: var(--fill-color);\n",
              "    animation:\n",
              "      spin 1s steps(1) infinite;\n",
              "  }\n",
              "\n",
              "  @keyframes spin {\n",
              "    0% {\n",
              "      border-color: transparent;\n",
              "      border-bottom-color: var(--fill-color);\n",
              "      border-left-color: var(--fill-color);\n",
              "    }\n",
              "    20% {\n",
              "      border-color: transparent;\n",
              "      border-left-color: var(--fill-color);\n",
              "      border-top-color: var(--fill-color);\n",
              "    }\n",
              "    30% {\n",
              "      border-color: transparent;\n",
              "      border-left-color: var(--fill-color);\n",
              "      border-top-color: var(--fill-color);\n",
              "      border-right-color: var(--fill-color);\n",
              "    }\n",
              "    40% {\n",
              "      border-color: transparent;\n",
              "      border-right-color: var(--fill-color);\n",
              "      border-top-color: var(--fill-color);\n",
              "    }\n",
              "    60% {\n",
              "      border-color: transparent;\n",
              "      border-right-color: var(--fill-color);\n",
              "    }\n",
              "    80% {\n",
              "      border-color: transparent;\n",
              "      border-right-color: var(--fill-color);\n",
              "      border-bottom-color: var(--fill-color);\n",
              "    }\n",
              "    90% {\n",
              "      border-color: transparent;\n",
              "      border-bottom-color: var(--fill-color);\n",
              "    }\n",
              "  }\n",
              "</style>\n",
              "\n",
              "      <script>\n",
              "        async function quickchart(key) {\n",
              "          const quickchartButtonEl =\n",
              "            document.querySelector('#' + key + ' button');\n",
              "          quickchartButtonEl.disabled = true;  // To prevent multiple clicks.\n",
              "          quickchartButtonEl.classList.add('colab-df-spinner');\n",
              "          try {\n",
              "            const charts = await google.colab.kernel.invokeFunction(\n",
              "                'suggestCharts', [key], {});\n",
              "          } catch (error) {\n",
              "            console.error('Error during call to suggestCharts:', error);\n",
              "          }\n",
              "          quickchartButtonEl.classList.remove('colab-df-spinner');\n",
              "          quickchartButtonEl.classList.add('colab-df-quickchart-complete');\n",
              "        }\n",
              "        (() => {\n",
              "          let quickchartButtonEl =\n",
              "            document.querySelector('#df-8a85acd5-87cc-4226-bcfb-283b48e62258 button');\n",
              "          quickchartButtonEl.style.display =\n",
              "            google.colab.kernel.accessAllowed ? 'block' : 'none';\n",
              "        })();\n",
              "      </script>\n",
              "    </div>\n",
              "\n",
              "    </div>\n",
              "  </div>\n"
            ],
            "application/vnd.google.colaboratory.intrinsic+json": {
              "type": "dataframe",
              "variable_name": "df",
              "summary": "{\n  \"name\": \"df\",\n  \"rows\": 1200,\n  \"fields\": [\n    {\n      \"column\": \"Unnamed: 0\",\n      \"properties\": {\n        \"dtype\": \"number\",\n        \"std\": 346,\n        \"min\": 0,\n        \"max\": 1199,\n        \"num_unique_values\": 1200,\n        \"samples\": [\n          1178,\n          865,\n          101\n        ],\n        \"semantic_type\": \"\",\n        \"description\": \"\"\n      }\n    },\n    {\n      \"column\": \"subjects\",\n      \"properties\": {\n        \"dtype\": \"category\",\n        \"num_unique_values\": 3,\n        \"samples\": [\n          \"Physics\",\n          \"Chemistry\",\n          \"Mathematics\"\n        ],\n        \"semantic_type\": \"\",\n        \"description\": \"\"\n      }\n    },\n    {\n      \"column\": \"Difficulty\",\n      \"properties\": {\n        \"dtype\": \"category\",\n        \"num_unique_values\": 3,\n        \"samples\": [\n          \"Medium\",\n          \"Easy\",\n          \"Hard\"\n        ],\n        \"semantic_type\": \"\",\n        \"description\": \"\"\n      }\n    },\n    {\n      \"column\": \"Questions\",\n      \"properties\": {\n        \"dtype\": \"category\",\n        \"num_unique_values\": 105,\n        \"samples\": [\n          \"Explain the concept of Thermodynamics in theoretical physics.\",\n          \"How does Periodic Table influence molecular structure?\",\n          \"How does Equilibrium influence molecular structure?\"\n        ],\n        \"semantic_type\": \"\",\n        \"description\": \"\"\n      }\n    }\n  ]\n}"
            }
          },
          "metadata": {},
          "execution_count": 3
        }
      ]
    },
    {
      "cell_type": "code",
      "source": [
        "def generatePrompt(subject, diff):\n",
        "  prompts = [\n",
        "    \"Generate <SUB> question of <DIFF> difficulty\",\n",
        "    \"Provide question on <SUB> with <DIFF> difficulty\",\n",
        "    \"subject : <SUB>, difficulty : <DIFF>\",\n",
        "    \"Give me <DIFF> question of <SUB>\",\n",
        "    \"Formulate a theoretical <SUB> question that is <DIFF>\",\n",
        "    \"Create one <DIFF> level question from <SUB>\",\n",
        "    \"I need a <DIFF> difficulty question in <SUB>\",\n",
        "    \"Please generate a conceptual question in <SUB> at <DIFF> level\",\n",
        "    \"Suggest a <DIFF> level question from <SUB>\",\n",
        "    \"Write a <DIFF> difficulty theoretical question on <SUB>\",\n",
        "    \"Prepare a question from <SUB> that is <DIFF> and theoretical\",\n",
        "    \"Generate a non-numerical <SUB> question with <DIFF> difficulty\",\n",
        "    \"Produce a conceptual <SUB> question categorized as <DIFF>\",\n",
        "    \"Create one theoretical and <DIFF> level question from the topic <SUB>\"\n",
        "  ]\n",
        "\n",
        "\n",
        "  promptIdx = random.randint(0, len(prompts)-1)\n",
        "  prompt = prompts[promptIdx]\n",
        "\n",
        "  prompt = prompt.split()\n",
        "  subIdx, diffIdx = -1, -1\n",
        "  for i, word in enumerate(prompt):\n",
        "    if '<SUB>' in word:\n",
        "      subIdx = i\n",
        "    if '<DIFF>' in word:\n",
        "      diffIdx = i\n",
        "\n",
        "  prompt[subIdx] = subject\n",
        "  prompt[diffIdx] = diff\n",
        "\n",
        "  return ' '.join(prompt)\n",
        "\n",
        "generatePrompt(\"Maths\", \"easy\")"
      ],
      "metadata": {
        "colab": {
          "base_uri": "https://localhost:8080/",
          "height": 36
        },
        "id": "XYKiz92sLKkZ",
        "outputId": "b863a76c-3f97-4f54-c7a0-8bfc55397858"
      },
      "execution_count": 4,
      "outputs": [
        {
          "output_type": "execute_result",
          "data": {
            "text/plain": [
              "'Provide question on Maths with easy difficulty'"
            ],
            "application/vnd.google.colaboratory.intrinsic+json": {
              "type": "string"
            }
          },
          "metadata": {},
          "execution_count": 4
        }
      ]
    },
    {
      "cell_type": "markdown",
      "source": [
        "# **Adding a new column in Dataframe \"Prompts\"**"
      ],
      "metadata": {
        "id": "1lnNbtReQ4EP"
      }
    },
    {
      "cell_type": "code",
      "source": [
        "def addPromptsDataFrame(df):\n",
        "\n",
        "  #These indexes will be used to extract information when iterating over rows in dataframe\n",
        "  subIdx = 2\n",
        "  diffIdx = 3\n",
        "  quesIdx = 4\n",
        "\n",
        "  #In these list we will add all the prompts that will be generated using \"generatePrompt\" function\n",
        "  #These prompts will be used as input to ENCODER module\n",
        "  prompts = []\n",
        "\n",
        "  for dataRow in df.itertuples():\n",
        "    # print(dataRow)\n",
        "    sub = dataRow[subIdx]\n",
        "    diff = dataRow[diffIdx]\n",
        "    # print(sub, diff)\n",
        "    prompt = generatePrompt(sub, diff)\n",
        "    prompts.append(prompt)\n",
        "\n",
        "  assert len(prompts) == len(df), f\"length of prompt list is {len(prompts)} and that of df is {len(df)}\"\n",
        "\n",
        "  try:\n",
        "    df.insert(3, \"Prompts\", prompts)\n",
        "  except ValueError:\n",
        "    print(\"Already done you can see it :)\")\n",
        "    df.head()\n",
        "\n",
        "addPromptsDataFrame(df)"
      ],
      "metadata": {
        "id": "R4Qv1FghQ3fq"
      },
      "execution_count": 5,
      "outputs": []
    },
    {
      "cell_type": "code",
      "source": [
        "df.head()"
      ],
      "metadata": {
        "colab": {
          "base_uri": "https://localhost:8080/",
          "height": 206
        },
        "id": "hKk1hw8UU5pI",
        "outputId": "3b29d08c-be51-4e21-e022-55619c341dd5"
      },
      "execution_count": null,
      "outputs": [
        {
          "output_type": "execute_result",
          "data": {
            "text/plain": [
              "   Unnamed: 0 subjects Difficulty  \\\n",
              "0           0  Physics     Medium   \n",
              "1           1  Physics     Medium   \n",
              "2           2  Physics       Easy   \n",
              "3           3  Physics       Hard   \n",
              "4           4  Physics     Medium   \n",
              "\n",
              "                                             Prompts  \\\n",
              "0  Formulate a theoretical Physics question that ...   \n",
              "1  Please generate a conceptual question in Physi...   \n",
              "2       I need a Easy difficulty question in Physics   \n",
              "3         Suggest a Hard level question from Physics   \n",
              "4  Please generate a conceptual question in Physi...   \n",
              "\n",
              "                                           Questions  \n",
              "0  Discuss the theoretical foundation of Waves an...  \n",
              "1  Discuss the theoretical foundation of Waves an...  \n",
              "2  Discuss the theoretical foundation of Relativity.  \n",
              "3  What is Thermodynamics and how is it observed ...  \n",
              "4  Discuss the theoretical foundation of Electrom...  "
            ],
            "text/html": [
              "\n",
              "  <div id=\"df-eebe93cf-258d-4e8a-aa6d-dd19ece0cfab\" class=\"colab-df-container\">\n",
              "    <div>\n",
              "<style scoped>\n",
              "    .dataframe tbody tr th:only-of-type {\n",
              "        vertical-align: middle;\n",
              "    }\n",
              "\n",
              "    .dataframe tbody tr th {\n",
              "        vertical-align: top;\n",
              "    }\n",
              "\n",
              "    .dataframe thead th {\n",
              "        text-align: right;\n",
              "    }\n",
              "</style>\n",
              "<table border=\"1\" class=\"dataframe\">\n",
              "  <thead>\n",
              "    <tr style=\"text-align: right;\">\n",
              "      <th></th>\n",
              "      <th>Unnamed: 0</th>\n",
              "      <th>subjects</th>\n",
              "      <th>Difficulty</th>\n",
              "      <th>Prompts</th>\n",
              "      <th>Questions</th>\n",
              "    </tr>\n",
              "  </thead>\n",
              "  <tbody>\n",
              "    <tr>\n",
              "      <th>0</th>\n",
              "      <td>0</td>\n",
              "      <td>Physics</td>\n",
              "      <td>Medium</td>\n",
              "      <td>Formulate a theoretical Physics question that ...</td>\n",
              "      <td>Discuss the theoretical foundation of Waves an...</td>\n",
              "    </tr>\n",
              "    <tr>\n",
              "      <th>1</th>\n",
              "      <td>1</td>\n",
              "      <td>Physics</td>\n",
              "      <td>Medium</td>\n",
              "      <td>Please generate a conceptual question in Physi...</td>\n",
              "      <td>Discuss the theoretical foundation of Waves an...</td>\n",
              "    </tr>\n",
              "    <tr>\n",
              "      <th>2</th>\n",
              "      <td>2</td>\n",
              "      <td>Physics</td>\n",
              "      <td>Easy</td>\n",
              "      <td>I need a Easy difficulty question in Physics</td>\n",
              "      <td>Discuss the theoretical foundation of Relativity.</td>\n",
              "    </tr>\n",
              "    <tr>\n",
              "      <th>3</th>\n",
              "      <td>3</td>\n",
              "      <td>Physics</td>\n",
              "      <td>Hard</td>\n",
              "      <td>Suggest a Hard level question from Physics</td>\n",
              "      <td>What is Thermodynamics and how is it observed ...</td>\n",
              "    </tr>\n",
              "    <tr>\n",
              "      <th>4</th>\n",
              "      <td>4</td>\n",
              "      <td>Physics</td>\n",
              "      <td>Medium</td>\n",
              "      <td>Please generate a conceptual question in Physi...</td>\n",
              "      <td>Discuss the theoretical foundation of Electrom...</td>\n",
              "    </tr>\n",
              "  </tbody>\n",
              "</table>\n",
              "</div>\n",
              "    <div class=\"colab-df-buttons\">\n",
              "\n",
              "  <div class=\"colab-df-container\">\n",
              "    <button class=\"colab-df-convert\" onclick=\"convertToInteractive('df-eebe93cf-258d-4e8a-aa6d-dd19ece0cfab')\"\n",
              "            title=\"Convert this dataframe to an interactive table.\"\n",
              "            style=\"display:none;\">\n",
              "\n",
              "  <svg xmlns=\"http://www.w3.org/2000/svg\" height=\"24px\" viewBox=\"0 -960 960 960\">\n",
              "    <path d=\"M120-120v-720h720v720H120Zm60-500h600v-160H180v160Zm220 220h160v-160H400v160Zm0 220h160v-160H400v160ZM180-400h160v-160H180v160Zm440 0h160v-160H620v160ZM180-180h160v-160H180v160Zm440 0h160v-160H620v160Z\"/>\n",
              "  </svg>\n",
              "    </button>\n",
              "\n",
              "  <style>\n",
              "    .colab-df-container {\n",
              "      display:flex;\n",
              "      gap: 12px;\n",
              "    }\n",
              "\n",
              "    .colab-df-convert {\n",
              "      background-color: #E8F0FE;\n",
              "      border: none;\n",
              "      border-radius: 50%;\n",
              "      cursor: pointer;\n",
              "      display: none;\n",
              "      fill: #1967D2;\n",
              "      height: 32px;\n",
              "      padding: 0 0 0 0;\n",
              "      width: 32px;\n",
              "    }\n",
              "\n",
              "    .colab-df-convert:hover {\n",
              "      background-color: #E2EBFA;\n",
              "      box-shadow: 0px 1px 2px rgba(60, 64, 67, 0.3), 0px 1px 3px 1px rgba(60, 64, 67, 0.15);\n",
              "      fill: #174EA6;\n",
              "    }\n",
              "\n",
              "    .colab-df-buttons div {\n",
              "      margin-bottom: 4px;\n",
              "    }\n",
              "\n",
              "    [theme=dark] .colab-df-convert {\n",
              "      background-color: #3B4455;\n",
              "      fill: #D2E3FC;\n",
              "    }\n",
              "\n",
              "    [theme=dark] .colab-df-convert:hover {\n",
              "      background-color: #434B5C;\n",
              "      box-shadow: 0px 1px 3px 1px rgba(0, 0, 0, 0.15);\n",
              "      filter: drop-shadow(0px 1px 2px rgba(0, 0, 0, 0.3));\n",
              "      fill: #FFFFFF;\n",
              "    }\n",
              "  </style>\n",
              "\n",
              "    <script>\n",
              "      const buttonEl =\n",
              "        document.querySelector('#df-eebe93cf-258d-4e8a-aa6d-dd19ece0cfab button.colab-df-convert');\n",
              "      buttonEl.style.display =\n",
              "        google.colab.kernel.accessAllowed ? 'block' : 'none';\n",
              "\n",
              "      async function convertToInteractive(key) {\n",
              "        const element = document.querySelector('#df-eebe93cf-258d-4e8a-aa6d-dd19ece0cfab');\n",
              "        const dataTable =\n",
              "          await google.colab.kernel.invokeFunction('convertToInteractive',\n",
              "                                                    [key], {});\n",
              "        if (!dataTable) return;\n",
              "\n",
              "        const docLinkHtml = 'Like what you see? Visit the ' +\n",
              "          '<a target=\"_blank\" href=https://colab.research.google.com/notebooks/data_table.ipynb>data table notebook</a>'\n",
              "          + ' to learn more about interactive tables.';\n",
              "        element.innerHTML = '';\n",
              "        dataTable['output_type'] = 'display_data';\n",
              "        await google.colab.output.renderOutput(dataTable, element);\n",
              "        const docLink = document.createElement('div');\n",
              "        docLink.innerHTML = docLinkHtml;\n",
              "        element.appendChild(docLink);\n",
              "      }\n",
              "    </script>\n",
              "  </div>\n",
              "\n",
              "\n",
              "    <div id=\"df-de26499f-1b21-486c-ad19-13dbd84737d0\">\n",
              "      <button class=\"colab-df-quickchart\" onclick=\"quickchart('df-de26499f-1b21-486c-ad19-13dbd84737d0')\"\n",
              "                title=\"Suggest charts\"\n",
              "                style=\"display:none;\">\n",
              "\n",
              "<svg xmlns=\"http://www.w3.org/2000/svg\" height=\"24px\"viewBox=\"0 0 24 24\"\n",
              "     width=\"24px\">\n",
              "    <g>\n",
              "        <path d=\"M19 3H5c-1.1 0-2 .9-2 2v14c0 1.1.9 2 2 2h14c1.1 0 2-.9 2-2V5c0-1.1-.9-2-2-2zM9 17H7v-7h2v7zm4 0h-2V7h2v10zm4 0h-2v-4h2v4z\"/>\n",
              "    </g>\n",
              "</svg>\n",
              "      </button>\n",
              "\n",
              "<style>\n",
              "  .colab-df-quickchart {\n",
              "      --bg-color: #E8F0FE;\n",
              "      --fill-color: #1967D2;\n",
              "      --hover-bg-color: #E2EBFA;\n",
              "      --hover-fill-color: #174EA6;\n",
              "      --disabled-fill-color: #AAA;\n",
              "      --disabled-bg-color: #DDD;\n",
              "  }\n",
              "\n",
              "  [theme=dark] .colab-df-quickchart {\n",
              "      --bg-color: #3B4455;\n",
              "      --fill-color: #D2E3FC;\n",
              "      --hover-bg-color: #434B5C;\n",
              "      --hover-fill-color: #FFFFFF;\n",
              "      --disabled-bg-color: #3B4455;\n",
              "      --disabled-fill-color: #666;\n",
              "  }\n",
              "\n",
              "  .colab-df-quickchart {\n",
              "    background-color: var(--bg-color);\n",
              "    border: none;\n",
              "    border-radius: 50%;\n",
              "    cursor: pointer;\n",
              "    display: none;\n",
              "    fill: var(--fill-color);\n",
              "    height: 32px;\n",
              "    padding: 0;\n",
              "    width: 32px;\n",
              "  }\n",
              "\n",
              "  .colab-df-quickchart:hover {\n",
              "    background-color: var(--hover-bg-color);\n",
              "    box-shadow: 0 1px 2px rgba(60, 64, 67, 0.3), 0 1px 3px 1px rgba(60, 64, 67, 0.15);\n",
              "    fill: var(--button-hover-fill-color);\n",
              "  }\n",
              "\n",
              "  .colab-df-quickchart-complete:disabled,\n",
              "  .colab-df-quickchart-complete:disabled:hover {\n",
              "    background-color: var(--disabled-bg-color);\n",
              "    fill: var(--disabled-fill-color);\n",
              "    box-shadow: none;\n",
              "  }\n",
              "\n",
              "  .colab-df-spinner {\n",
              "    border: 2px solid var(--fill-color);\n",
              "    border-color: transparent;\n",
              "    border-bottom-color: var(--fill-color);\n",
              "    animation:\n",
              "      spin 1s steps(1) infinite;\n",
              "  }\n",
              "\n",
              "  @keyframes spin {\n",
              "    0% {\n",
              "      border-color: transparent;\n",
              "      border-bottom-color: var(--fill-color);\n",
              "      border-left-color: var(--fill-color);\n",
              "    }\n",
              "    20% {\n",
              "      border-color: transparent;\n",
              "      border-left-color: var(--fill-color);\n",
              "      border-top-color: var(--fill-color);\n",
              "    }\n",
              "    30% {\n",
              "      border-color: transparent;\n",
              "      border-left-color: var(--fill-color);\n",
              "      border-top-color: var(--fill-color);\n",
              "      border-right-color: var(--fill-color);\n",
              "    }\n",
              "    40% {\n",
              "      border-color: transparent;\n",
              "      border-right-color: var(--fill-color);\n",
              "      border-top-color: var(--fill-color);\n",
              "    }\n",
              "    60% {\n",
              "      border-color: transparent;\n",
              "      border-right-color: var(--fill-color);\n",
              "    }\n",
              "    80% {\n",
              "      border-color: transparent;\n",
              "      border-right-color: var(--fill-color);\n",
              "      border-bottom-color: var(--fill-color);\n",
              "    }\n",
              "    90% {\n",
              "      border-color: transparent;\n",
              "      border-bottom-color: var(--fill-color);\n",
              "    }\n",
              "  }\n",
              "</style>\n",
              "\n",
              "      <script>\n",
              "        async function quickchart(key) {\n",
              "          const quickchartButtonEl =\n",
              "            document.querySelector('#' + key + ' button');\n",
              "          quickchartButtonEl.disabled = true;  // To prevent multiple clicks.\n",
              "          quickchartButtonEl.classList.add('colab-df-spinner');\n",
              "          try {\n",
              "            const charts = await google.colab.kernel.invokeFunction(\n",
              "                'suggestCharts', [key], {});\n",
              "          } catch (error) {\n",
              "            console.error('Error during call to suggestCharts:', error);\n",
              "          }\n",
              "          quickchartButtonEl.classList.remove('colab-df-spinner');\n",
              "          quickchartButtonEl.classList.add('colab-df-quickchart-complete');\n",
              "        }\n",
              "        (() => {\n",
              "          let quickchartButtonEl =\n",
              "            document.querySelector('#df-de26499f-1b21-486c-ad19-13dbd84737d0 button');\n",
              "          quickchartButtonEl.style.display =\n",
              "            google.colab.kernel.accessAllowed ? 'block' : 'none';\n",
              "        })();\n",
              "      </script>\n",
              "    </div>\n",
              "\n",
              "    </div>\n",
              "  </div>\n"
            ],
            "application/vnd.google.colaboratory.intrinsic+json": {
              "type": "dataframe",
              "variable_name": "df",
              "summary": "{\n  \"name\": \"df\",\n  \"rows\": 1200,\n  \"fields\": [\n    {\n      \"column\": \"Unnamed: 0\",\n      \"properties\": {\n        \"dtype\": \"number\",\n        \"std\": 346,\n        \"min\": 0,\n        \"max\": 1199,\n        \"num_unique_values\": 1200,\n        \"samples\": [\n          1178,\n          865,\n          101\n        ],\n        \"semantic_type\": \"\",\n        \"description\": \"\"\n      }\n    },\n    {\n      \"column\": \"subjects\",\n      \"properties\": {\n        \"dtype\": \"category\",\n        \"num_unique_values\": 3,\n        \"samples\": [\n          \"Physics\",\n          \"Chemistry\",\n          \"Mathematics\"\n        ],\n        \"semantic_type\": \"\",\n        \"description\": \"\"\n      }\n    },\n    {\n      \"column\": \"Difficulty\",\n      \"properties\": {\n        \"dtype\": \"category\",\n        \"num_unique_values\": 3,\n        \"samples\": [\n          \"Medium\",\n          \"Easy\",\n          \"Hard\"\n        ],\n        \"semantic_type\": \"\",\n        \"description\": \"\"\n      }\n    },\n    {\n      \"column\": \"Prompts\",\n      \"properties\": {\n        \"dtype\": \"category\",\n        \"num_unique_values\": 126,\n        \"samples\": [\n          \"Provide question on Chemistry with Medium difficulty\",\n          \"Write a Hard difficulty theoretical question on Physics\",\n          \"Produce a conceptual Mathematics question categorized as Easy\"\n        ],\n        \"semantic_type\": \"\",\n        \"description\": \"\"\n      }\n    },\n    {\n      \"column\": \"Questions\",\n      \"properties\": {\n        \"dtype\": \"category\",\n        \"num_unique_values\": 105,\n        \"samples\": [\n          \"Explain the concept of Thermodynamics in theoretical physics.\",\n          \"How does Periodic Table influence molecular structure?\",\n          \"How does Equilibrium influence molecular structure?\"\n        ],\n        \"semantic_type\": \"\",\n        \"description\": \"\"\n      }\n    }\n  ]\n}"
            }
          },
          "metadata": {},
          "execution_count": 6
        }
      ]
    },
    {
      "cell_type": "markdown",
      "source": [
        "# **Basic Preprocessing**\n",
        "\n",
        "Since we are basically building a language model so during the preprocessing part we will not remove the \"Stopwords\" or \"punctuations\" we will just remove special characters like \"?,/+-!@#$%&*\" so they don't hurt the performance in Phase-1"
      ],
      "metadata": {
        "id": "6Nd5jI0Gb_wJ"
      }
    },
    {
      "cell_type": "code",
      "source": [
        "def removeSpecialCharacters(sentence):\n",
        "  return re.sub('[^a-zA-Z0-9]', ' ', sentence)\n",
        "\n",
        "print(removeSpecialCharacters(\"!@#!$%%@%#%@@!Jas\"))\n"
      ],
      "metadata": {
        "colab": {
          "base_uri": "https://localhost:8080/"
        },
        "id": "1L1m3xIzcXA5",
        "outputId": "e10ad1ab-ac61-4509-9365-d50b1cc07dec"
      },
      "execution_count": 6,
      "outputs": [
        {
          "output_type": "stream",
          "name": "stdout",
          "text": [
            "              Jas\n"
          ]
        }
      ]
    },
    {
      "cell_type": "markdown",
      "source": [
        "# **Getting the max lengths of input and output**"
      ],
      "metadata": {
        "id": "x3MY4LuUVEwB"
      }
    },
    {
      "cell_type": "code",
      "source": [
        "import math\n",
        "def analyzeLengths(df):\n",
        "\n",
        "  promptMaxLen = -math.inf\n",
        "  quesMaxLen = -math.inf\n",
        "\n",
        "  for prompt, question in zip(df['Prompts'], df['Questions']):\n",
        "    promptMaxLen = max(len(prompt.split(' ')), promptMaxLen)\n",
        "    quesMaxLen = max(len(question.split(' ')), quesMaxLen)\n",
        "\n",
        "  print(f\"Max prompt len : {promptMaxLen}\")\n",
        "  print(f\"Max question len : {quesMaxLen}\")\n",
        "\n",
        "  return promptMaxLen, quesMaxLen\n",
        "\n",
        "promptMaxLen, quesMaxLen = analyzeLengths(df)"
      ],
      "metadata": {
        "colab": {
          "base_uri": "https://localhost:8080/"
        },
        "id": "C9M6qtEIVBBp",
        "outputId": "534ed68b-4554-4033-b951-85c0ffea8b83"
      },
      "execution_count": 7,
      "outputs": [
        {
          "output_type": "stream",
          "name": "stdout",
          "text": [
            "Max prompt len : 11\n",
            "Max question len : 13\n"
          ]
        }
      ]
    },
    {
      "cell_type": "markdown",
      "source": [
        "# **Building Prompt and Question Vocab**"
      ],
      "metadata": {
        "id": "p9VInlK6Y_fM"
      }
    },
    {
      "cell_type": "code",
      "source": [
        "def addUniqueWordstoVocab(feature):\n",
        "\n",
        "  words = set()\n",
        "  for sentence in feature:\n",
        "    wordsInSent = sentence.split()\n",
        "    for word in wordsInSent:\n",
        "      words.add(word)\n",
        "\n",
        "  return words\n",
        "\n",
        "promptVocab = addUniqueWordstoVocab(df['Prompts'])\n",
        "print(f\"vocab size for prompts are {len(promptVocab)}\")\n",
        "quesVocab = addUniqueWordstoVocab(df['Questions'])\n",
        "print(f\"vocab size for prompts are {len(quesVocab)}\")\n",
        "\n",
        "vocab = quesVocab.copy()\n",
        "\n",
        "for word in promptVocab:\n",
        "  if word in quesVocab:\n",
        "    print(f\"Word {word} appeared in both sets\")\n",
        "  else:\n",
        "    vocab.add(word)\n",
        "\n",
        "print(f\"Final vocab size is {len(vocab)}\")"
      ],
      "metadata": {
        "colab": {
          "base_uri": "https://localhost:8080/"
        },
        "id": "awwuASDaVjt5",
        "outputId": "a97b2c31-887d-4661-9de8-85b2007bdeab"
      },
      "execution_count": 8,
      "outputs": [
        {
          "output_type": "stream",
          "name": "stdout",
          "text": [
            "vocab size for prompts are 43\n",
            "vocab size for prompts are 90\n",
            "Word the appeared in both sets\n",
            "Word in appeared in both sets\n",
            "Word Physics appeared in both sets\n",
            "Word is appeared in both sets\n",
            "Word of appeared in both sets\n",
            "Word theoretical appeared in both sets\n",
            "Word with appeared in both sets\n",
            "Word Chemistry appeared in both sets\n",
            "Word and appeared in both sets\n",
            "Final vocab size is 124\n"
          ]
        }
      ]
    },
    {
      "cell_type": "markdown",
      "source": [
        "# **Indexing words of vocab**\n",
        "\n",
        "In phase-1 Since we know that max prompt len is 11 and max question len is 13 so we will keep Tx and Ty both 15"
      ],
      "metadata": {
        "id": "wb33vGNFaJDQ"
      }
    },
    {
      "cell_type": "code",
      "source": [
        "Tx = Ty = 15\n",
        "def indexVocab(vocab):\n",
        "  wordIdx = {'<UNK>' : 0, '<SOS>' : 1, '<EOS>' : 2, '<PAD>' : 3}\n",
        "\n",
        "  for idx, word in enumerate(vocab, len(wordIdx)):\n",
        "    wordIdx.update({word : idx})\n",
        "\n",
        "  return wordIdx\n",
        "\n",
        "wordIdx = indexVocab(vocab)\n",
        "# (wordIdx)"
      ],
      "metadata": {
        "id": "py7ZoUSQadS0"
      },
      "execution_count": 9,
      "outputs": []
    },
    {
      "cell_type": "markdown",
      "source": [
        "# **Doing Basic Preprocessing**\n",
        "\n",
        "\n",
        "\n",
        "*   Padding short sequences\n",
        "*   Indexing each word in sequence\n",
        "*   Appending End of sentence and Pushing start of sentence token in output sentences\n",
        "*   Appending End of sentence token\n",
        "\n"
      ],
      "metadata": {
        "id": "BdueOuB9Yic2"
      }
    },
    {
      "cell_type": "code",
      "source": [
        "def pushSOS(sent):\n",
        "  return \"<SOS> \" + sent\n",
        "\n",
        "def pushEOS(sent):\n",
        "  return sent + \" <EOS>\"\n",
        "\n",
        "def padSeq(sent):\n",
        "  sent = sent.split()\n",
        "  length = len(sent)\n",
        "  sent = sent + ((Ty - length) * ['<PAD>'])\n",
        "  return \" \".join(sent)\n",
        "\n",
        "df['Prompts'] = df['Prompts'].apply(pushEOS)\n",
        "df['Prompts'] = df['Prompts'].apply(padSeq)\n",
        "df['Questions'] = df['Questions'].apply(pushEOS)\n",
        "df['Questions'] = df['Questions'].apply(pushSOS)\n",
        "df['Questions'] = df['Questions'].apply(padSeq)\n",
        "\n",
        "for prompt in df['Prompts']:\n",
        "  assert len(prompt.split()) == Ty, f\"Length of prompt is not equal to 15\"\n",
        "\n",
        "df['Prompts'][0], df['Questions'][0]"
      ],
      "metadata": {
        "colab": {
          "base_uri": "https://localhost:8080/"
        },
        "id": "zpHkCl5wZHNV",
        "outputId": "aabadb74-c6fc-49b0-feb6-15f8af1883b6"
      },
      "execution_count": 10,
      "outputs": [
        {
          "output_type": "execute_result",
          "data": {
            "text/plain": [
              "('subject : Physics difficulty : Medium <EOS> <PAD> <PAD> <PAD> <PAD> <PAD> <PAD> <PAD> <PAD>',\n",
              " '<SOS> Discuss the theoretical foundation of Waves and Optics. <EOS> <PAD> <PAD> <PAD> <PAD> <PAD>')"
            ]
          },
          "metadata": {},
          "execution_count": 10
        }
      ]
    },
    {
      "cell_type": "code",
      "source": [
        "def convertWordsToIndex(sentList : pd.DataFrame, wordIdx):\n",
        "  newList = []\n",
        "  for ques in list(sentList):\n",
        "    tempList = []\n",
        "    for word in ques.split():\n",
        "      tempList.append(wordIdx[word])\n",
        "    newList.append(tempList)\n",
        "  return newList\n",
        "\n",
        "\n",
        "indexedQuestions = convertWordsToIndex(df['Questions'], wordIdx)\n",
        "indexedPrompts = convertWordsToIndex(df['Prompts'], wordIdx)"
      ],
      "metadata": {
        "id": "NHJnuS7sbm5H"
      },
      "execution_count": 11,
      "outputs": []
    },
    {
      "cell_type": "markdown",
      "source": [
        "# **Creating Embedding Matrix**"
      ],
      "metadata": {
        "id": "XRCXJ1RFj2jV"
      }
    },
    {
      "cell_type": "code",
      "source": [
        "def createEmbeddingMatrix(vocab, wordIdx):\n",
        "  filePath = \"/content/drive/MyDrive/glove.42B.300d.txt\"\n",
        "  embeddingMatrix = np.zeros(shape = (len(wordIdx), 300)) # 300 -> GloVe embeddings dimension\n",
        "\n",
        "  print(f\"Embedding matrix initialized with shape {embeddingMatrix.shape}\")\n",
        "  wordCount = 0 # To keep track of embedded words so we can stop early if all words of target are achieved\n",
        "\n",
        "  with open(file = filePath, mode = 'r') as embeddingFile:\n",
        "    for idx, line in enumerate(embeddingFile):\n",
        "      line = line.split()\n",
        "      key = str(line[0])\n",
        "      if key in vocab:\n",
        "        i = wordIdx[key]\n",
        "        vector = np.array(line[1:], dtype = np.float32)\n",
        "        embeddingMatrix[i, : ] = vector\n",
        "        wordCount+=1\n",
        "\n",
        "      if wordCount == len(wordIdx):\n",
        "        print(f\"All {wordCount} words have been embedded :)\")\n",
        "\n",
        "  return embeddingMatrix\n",
        "\n",
        "embeddingMatrix = createEmbeddingMatrix(vocab, wordIdx)"
      ],
      "metadata": {
        "colab": {
          "base_uri": "https://localhost:8080/",
          "height": 327
        },
        "id": "Z45SoV_Ej79I",
        "outputId": "e6055d43-55c6-49dd-bfec-d86affbc769d"
      },
      "execution_count": null,
      "outputs": [
        {
          "output_type": "stream",
          "name": "stdout",
          "text": [
            "Embedding matrix initialized with shape (128, 300)\n"
          ]
        },
        {
          "output_type": "error",
          "ename": "KeyboardInterrupt",
          "evalue": "",
          "traceback": [
            "\u001b[0;31m---------------------------------------------------------------------------\u001b[0m",
            "\u001b[0;31mKeyboardInterrupt\u001b[0m                         Traceback (most recent call last)",
            "\u001b[0;32m/tmp/ipython-input-19-1903996237.py\u001b[0m in \u001b[0;36m<cell line: 0>\u001b[0;34m()\u001b[0m\n\u001b[1;32m     21\u001b[0m   \u001b[0;32mreturn\u001b[0m \u001b[0membeddingMatrix\u001b[0m\u001b[0;34m\u001b[0m\u001b[0;34m\u001b[0m\u001b[0m\n\u001b[1;32m     22\u001b[0m \u001b[0;34m\u001b[0m\u001b[0m\n\u001b[0;32m---> 23\u001b[0;31m \u001b[0membeddingMatrix\u001b[0m \u001b[0;34m=\u001b[0m \u001b[0mcreateEmbeddingMatrix\u001b[0m\u001b[0;34m(\u001b[0m\u001b[0mvocab\u001b[0m\u001b[0;34m,\u001b[0m \u001b[0mwordIdx\u001b[0m\u001b[0;34m)\u001b[0m\u001b[0;34m\u001b[0m\u001b[0;34m\u001b[0m\u001b[0m\n\u001b[0m",
            "\u001b[0;32m/tmp/ipython-input-19-1903996237.py\u001b[0m in \u001b[0;36mcreateEmbeddingMatrix\u001b[0;34m(vocab, wordIdx)\u001b[0m\n\u001b[1;32m      8\u001b[0m   \u001b[0;32mwith\u001b[0m \u001b[0mopen\u001b[0m\u001b[0;34m(\u001b[0m\u001b[0mfile\u001b[0m \u001b[0;34m=\u001b[0m \u001b[0mfilePath\u001b[0m\u001b[0;34m,\u001b[0m \u001b[0mmode\u001b[0m \u001b[0;34m=\u001b[0m \u001b[0;34m'r'\u001b[0m\u001b[0;34m)\u001b[0m \u001b[0;32mas\u001b[0m \u001b[0membeddingFile\u001b[0m\u001b[0;34m:\u001b[0m\u001b[0;34m\u001b[0m\u001b[0;34m\u001b[0m\u001b[0m\n\u001b[1;32m      9\u001b[0m     \u001b[0;32mfor\u001b[0m \u001b[0midx\u001b[0m\u001b[0;34m,\u001b[0m \u001b[0mline\u001b[0m \u001b[0;32min\u001b[0m \u001b[0menumerate\u001b[0m\u001b[0;34m(\u001b[0m\u001b[0membeddingFile\u001b[0m\u001b[0;34m)\u001b[0m\u001b[0;34m:\u001b[0m\u001b[0;34m\u001b[0m\u001b[0;34m\u001b[0m\u001b[0m\n\u001b[0;32m---> 10\u001b[0;31m       \u001b[0mline\u001b[0m \u001b[0;34m=\u001b[0m \u001b[0mline\u001b[0m\u001b[0;34m.\u001b[0m\u001b[0msplit\u001b[0m\u001b[0;34m(\u001b[0m\u001b[0;34m)\u001b[0m\u001b[0;34m\u001b[0m\u001b[0;34m\u001b[0m\u001b[0m\n\u001b[0m\u001b[1;32m     11\u001b[0m       \u001b[0mkey\u001b[0m \u001b[0;34m=\u001b[0m \u001b[0mstr\u001b[0m\u001b[0;34m(\u001b[0m\u001b[0mline\u001b[0m\u001b[0;34m[\u001b[0m\u001b[0;36m0\u001b[0m\u001b[0;34m]\u001b[0m\u001b[0;34m)\u001b[0m\u001b[0;34m\u001b[0m\u001b[0;34m\u001b[0m\u001b[0m\n\u001b[1;32m     12\u001b[0m       \u001b[0;32mif\u001b[0m \u001b[0mkey\u001b[0m \u001b[0;32min\u001b[0m \u001b[0mvocab\u001b[0m\u001b[0;34m:\u001b[0m\u001b[0;34m\u001b[0m\u001b[0;34m\u001b[0m\u001b[0m\n",
            "\u001b[0;31mKeyboardInterrupt\u001b[0m: "
          ]
        }
      ]
    },
    {
      "cell_type": "code",
      "source": [
        "np.save(file = \"/content/drive/MyDrive/PHASE-1_EMBEDDING_MATRIX_DIM_124_300.npy\", arr = embeddingMatrix)"
      ],
      "metadata": {
        "id": "mj2OEb-V3q-A",
        "colab": {
          "base_uri": "https://localhost:8080/",
          "height": 146
        },
        "outputId": "a6644b85-4930-4b6e-dbb2-b364063c021d"
      },
      "execution_count": null,
      "outputs": [
        {
          "output_type": "error",
          "ename": "NameError",
          "evalue": "name 'embeddingMatrix' is not defined",
          "traceback": [
            "\u001b[0;31m---------------------------------------------------------------------------\u001b[0m",
            "\u001b[0;31mNameError\u001b[0m                                 Traceback (most recent call last)",
            "\u001b[0;32m/tmp/ipython-input-13-1603011848.py\u001b[0m in \u001b[0;36m<cell line: 0>\u001b[0;34m()\u001b[0m\n\u001b[0;32m----> 1\u001b[0;31m \u001b[0mnp\u001b[0m\u001b[0;34m.\u001b[0m\u001b[0msave\u001b[0m\u001b[0;34m(\u001b[0m\u001b[0mfile\u001b[0m \u001b[0;34m=\u001b[0m \u001b[0;34m\"/content/drive/MyDrive/PHASE-1_EMBEDDING_MATRIX_DIM_124_300.npy\"\u001b[0m\u001b[0;34m,\u001b[0m \u001b[0marr\u001b[0m \u001b[0;34m=\u001b[0m \u001b[0membeddingMatrix\u001b[0m\u001b[0;34m)\u001b[0m\u001b[0;34m\u001b[0m\u001b[0;34m\u001b[0m\u001b[0m\n\u001b[0m",
            "\u001b[0;31mNameError\u001b[0m: name 'embeddingMatrix' is not defined"
          ]
        }
      ]
    },
    {
      "cell_type": "code",
      "source": [
        "embeddingMatrix = np.load(file = \"/content/drive/MyDrive/PHASE-1_EMBEDDING_MATRIX_DIM_124_300.npy\")\n",
        "embeddingMatrix"
      ],
      "metadata": {
        "id": "wYTPSB-8snV-",
        "colab": {
          "base_uri": "https://localhost:8080/"
        },
        "outputId": "ff7ecc42-95e7-4495-8026-5c1101d272b5"
      },
      "execution_count": 12,
      "outputs": [
        {
          "output_type": "execute_result",
          "data": {
            "text/plain": [
              "array([[ 0.        ,  0.        ,  0.        , ...,  0.        ,\n",
              "         0.        ,  0.        ],\n",
              "       [ 0.        ,  0.        ,  0.        , ...,  0.        ,\n",
              "         0.        ,  0.        ],\n",
              "       [ 0.        ,  0.        ,  0.        , ...,  0.        ,\n",
              "         0.        ,  0.        ],\n",
              "       ...,\n",
              "       [-0.035835  ,  0.77844   , -0.51806003, ...,  0.022321  ,\n",
              "        -0.31591001, -0.35608   ],\n",
              "       [ 0.        ,  0.        ,  0.        , ...,  0.        ,\n",
              "         0.        ,  0.        ],\n",
              "       [-0.56686997,  0.1235    ,  0.19329   , ...,  0.026026  ,\n",
              "         0.13852   ,  0.017205  ]])"
            ]
          },
          "metadata": {},
          "execution_count": 12
        }
      ]
    },
    {
      "cell_type": "markdown",
      "source": [
        "\n",
        "# **Encoder Module**"
      ],
      "metadata": {
        "id": "Mgg9a5974ZGP"
      }
    },
    {
      "cell_type": "markdown",
      "source": [
        "Since we have 4 layers in our Encoder module for now, and the size of our embeddings are 300. For a thumb of rule and to keep things simple i have taken the hidden size as 128 units. It may vary in further phases.\n",
        "\n",
        "The nn.LSTM have been initialized with 4 layers and we know for an encoder decoder attention based model we need the hidden state of each layer so it will be provided by the output tuple.\n",
        "\n",
        "nn.LSTM returns -\n",
        "\n",
        "\n",
        "1.   The final layer hidden state\n",
        "2.   Hidden states of each layer at each time step\n",
        "3.   Cell states of each layer at each time step\n",
        "\n",
        "the (2, 3) outputs are provided in a tuple that have been stored with variable name 'tup'\n",
        "\n"
      ],
      "metadata": {
        "id": "slUaksnv72xd"
      }
    },
    {
      "cell_type": "code",
      "source": [
        "class Encoder(nn.Module):\n",
        "  def __init__(self, ipSize, hiddenSize, Tx):\n",
        "    super().__init__()\n",
        "    self.lstm = nn.LSTM(input_size = ipSize, hidden_size = hiddenSize, num_layers = 4, dropout = 0.5, batch_first = True)\n",
        "\n",
        "  def forward(self, emb):\n",
        "    encoded, tup = self.lstm(emb)\n",
        "    return encoded, tup\n",
        "\n",
        "enc = Encoder(300, 128, 15)\n",
        "randArr = np.random.randn(32, 15, 300)\n",
        "encoded, tup = enc(torch.from_numpy(randArr).type(torch.float))\n",
        "encoded.shape, tup[0].shape, tup[1].shape"
      ],
      "metadata": {
        "colab": {
          "base_uri": "https://localhost:8080/"
        },
        "id": "uoMaIi5k4YD9",
        "outputId": "fe6bccb8-ba82-4167-f103-9ff99ce5af13"
      },
      "execution_count": 13,
      "outputs": [
        {
          "output_type": "execute_result",
          "data": {
            "text/plain": [
              "(torch.Size([32, 15, 128]), torch.Size([4, 32, 128]), torch.Size([4, 32, 128]))"
            ]
          },
          "metadata": {},
          "execution_count": 13
        }
      ]
    },
    {
      "cell_type": "markdown",
      "source": [
        "# **Attention Module**"
      ],
      "metadata": {
        "id": "0EY6IbaSutRB"
      }
    },
    {
      "cell_type": "code",
      "source": [
        "lyr = nn.Linear(in_features = 128, out_features = 64)\n",
        "arr1 = torch.randn(1, 2, 128)\n",
        "lyr(arr1).shape"
      ],
      "metadata": {
        "colab": {
          "base_uri": "https://localhost:8080/"
        },
        "id": "XB1fe9-RuwY6",
        "outputId": "fe9c8fa6-ac29-4a9c-95e4-643427448c5c"
      },
      "execution_count": null,
      "outputs": [
        {
          "output_type": "execute_result",
          "data": {
            "text/plain": [
              "torch.Size([1, 2, 64])"
            ]
          },
          "metadata": {},
          "execution_count": 31
        }
      ]
    },
    {
      "cell_type": "code",
      "source": [
        "encHiddenStates = torch.randn(1, 1, 128)\n",
        "decHiddenStates = torch.randn(1, 1, 128)\n",
        "X = torch.cat((encHiddenStates, decHiddenStates), dim = 1)\n",
        "X.shape"
      ],
      "metadata": {
        "colab": {
          "base_uri": "https://localhost:8080/"
        },
        "id": "mMvtST1uz6LC",
        "outputId": "33d60dfe-ab55-4ba1-fa2e-86a3e015f028"
      },
      "execution_count": null,
      "outputs": [
        {
          "output_type": "execute_result",
          "data": {
            "text/plain": [
              "torch.Size([1, 2, 128])"
            ]
          },
          "metadata": {},
          "execution_count": 36
        }
      ]
    },
    {
      "cell_type": "code",
      "source": [
        "arr = torch.randn(size = (32, 128))\n",
        "arr.unsqueeze(1).repeat(1, Tx, 1).shape"
      ],
      "metadata": {
        "colab": {
          "base_uri": "https://localhost:8080/"
        },
        "id": "F5rfCWsl1Qs8",
        "outputId": "660255dd-2148-409e-f508-972df0ade752"
      },
      "execution_count": null,
      "outputs": [
        {
          "output_type": "execute_result",
          "data": {
            "text/plain": [
              "torch.Size([32, 15, 128])"
            ]
          },
          "metadata": {},
          "execution_count": 30
        }
      ]
    },
    {
      "cell_type": "code",
      "source": [
        "class AttentionModule(nn.Module):\n",
        "  def __init__(self, batchSize, hiddenDim, Tx):\n",
        "    super().__init__()\n",
        "    self.encLayer = nn.Linear(in_features = hiddenDim, out_features = hiddenDim)\n",
        "    self.decLayer = nn.Linear(in_features = hiddenDim, out_features = hiddenDim)\n",
        "    self.v = nn.Linear(in_features = hiddenDim, out_features = 1)\n",
        "    self.softmax = nn.Softmax(dim = -1)\n",
        "\n",
        "  def forward(self, encHiddenStates, decHiddenStates : torch.Tensor):\n",
        "    B, Tx, H = encHiddenStates.shape\n",
        "    decHiddenStates = decHiddenStates.unsqueeze(dim = 1).repeat(1, Tx, 1)\n",
        "\n",
        "    energies = self.v(torch.tanh(self.encLayer(encHiddenStates) + self.decLayer(decHiddenStates)))\n",
        "    alpha = self.softmax(energies)\n",
        "\n",
        "    context = torch.sum(alpha * encHiddenStates, dim = 1)\n",
        "    return context"
      ],
      "metadata": {
        "id": "p8E-fuAYy0h6"
      },
      "execution_count": 14,
      "outputs": []
    },
    {
      "cell_type": "code",
      "source": [
        "attentionTest = AttentionModule(32, 128, 15)\n",
        "encHiddenStates = torch.randn(size = (32, 15, 128))\n",
        "decHiddenStates = torch.randn(size = (32, 128))\n",
        "attentionTest(encHiddenStates, decHiddenStates).shape"
      ],
      "metadata": {
        "colab": {
          "base_uri": "https://localhost:8080/"
        },
        "id": "tv42u76NDeq9",
        "outputId": "44e8c68e-cf68-4d2e-cd05-964620f84205"
      },
      "execution_count": 15,
      "outputs": [
        {
          "output_type": "execute_result",
          "data": {
            "text/plain": [
              "torch.Size([32, 128])"
            ]
          },
          "metadata": {},
          "execution_count": 15
        }
      ]
    },
    {
      "cell_type": "markdown",
      "source": [
        "# **Decoder Module**"
      ],
      "metadata": {
        "id": "PHNu_tR5Oq_3"
      }
    },
    {
      "cell_type": "code",
      "source": [
        "class Decoder(nn.Module):\n",
        "  def __init__(self, embDim, hiddenDim, Tx, Ty):\n",
        "    super().__init__()\n",
        "    self.lstm = nn.LSTM(input_size = embDim + hiddenDim, hidden_size = hiddenDim, num_layers = 4, dropout = 0.5, batch_first = True)\n",
        "    self.attention = AttentionModule(32, hiddenDim, Tx)\n",
        "    self.Tx = Tx\n",
        "    self.Ty = Ty\n",
        "\n",
        "  def forward(self,\n",
        "              encoderHiddenStates : torch.Tensor, #The hidden states of last layer of LSTM (encoder)\n",
        "              encFinal : torch.Tensor, #The final hidden states of each layer of LSTM (encoder)\n",
        "              encCellFinal : torch.Tensor, #The final cell states of each layer of LSTM (encoder)\n",
        "              X : torch.Tensor #The input Sequences to LSTM (decoder) during training -> Teacher Forcing\n",
        "              ):\n",
        "    #Shape of encoderHiddenStates will be [32, 15, 128] since in Encoder i have kept the 'batch_first'\n",
        "    #variable as true and we have 32 batches each with sequence length 15 and 128 hidden units\n",
        "\n",
        "    outputSeq = []\n",
        "    d_h_0 = encFinal        #[num_layers, batch_size, H_out] ([4, 32, 128])\n",
        "    d_c_0 = encCellFinal    #[num_layers, batch_size, H_out] ([4, 32, 128])\n",
        "    contextVector = self.attention(encoderHiddenStates, d_h_0[-1])\n",
        "    X = torch.cat(tensors = (X[:, 0, :], contextVector), dim = -1).unsqueeze(1)\n",
        "    output, (d_h_n, d_c_n) = self.lstm(X, (d_h_0, d_c_0))\n",
        "    outputSeq.append(output)\n",
        "\n",
        "    for i in range(1, self.Tx):\n",
        "      contextVector = self.attention(encoderHiddenStates, d_h_n[-1])\n",
        "      X = torch.cat(tensors = (X[:, i, :], contextVector), dim = -1).unsqueeze(1)\n",
        "      output, (d_h_n, d_c_n) = self.lstm(X, (d_h_n, d_c_n))\n",
        "      outputSeq.append(output)\n",
        "\n",
        "    return torch.cat(outputSeq, dim = 1)"
      ],
      "metadata": {
        "id": "iIXl6h4QPBps"
      },
      "execution_count": null,
      "outputs": []
    }
  ]
}